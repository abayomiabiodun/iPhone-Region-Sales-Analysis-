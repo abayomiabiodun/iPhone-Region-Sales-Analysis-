{
 "cells": [
  {
   "cell_type": "markdown",
   "id": "b6b4974f",
   "metadata": {},
   "source": [
    "# Liberies In Python for data Analysis \n",
    " - Pandas \n",
    " - Numpy \n",
    " - Matplotlib\n",
    " - Seaborn\n",
    "  "
   ]
  },
  {
   "cell_type": "code",
   "execution_count": 1,
   "id": "d52fea15",
   "metadata": {},
   "outputs": [],
   "source": [
    "import pandas as pd \n",
    "import numpy as np\n",
    "import matplotlib.pyplot as plt \n",
    "import seaborn as sns\n",
    "\n",
    "%matplotlib inline "
   ]
  },
  {
   "cell_type": "code",
   "execution_count": 2,
   "id": "3d9dfbe1",
   "metadata": {},
   "outputs": [
    {
     "data": {
      "text/html": [
       "<div>\n",
       "<style scoped>\n",
       "    .dataframe tbody tr th:only-of-type {\n",
       "        vertical-align: middle;\n",
       "    }\n",
       "\n",
       "    .dataframe tbody tr th {\n",
       "        vertical-align: top;\n",
       "    }\n",
       "\n",
       "    .dataframe thead th {\n",
       "        text-align: right;\n",
       "    }\n",
       "</style>\n",
       "<table border=\"1\" class=\"dataframe\">\n",
       "  <thead>\n",
       "    <tr style=\"text-align: right;\">\n",
       "      <th></th>\n",
       "      <th>Unnamed: 0</th>\n",
       "      <th>Unnamed: 1</th>\n",
       "      <th>Unnamed: 2</th>\n",
       "      <th>Unnamed: 3</th>\n",
       "      <th>Unnamed: 4</th>\n",
       "    </tr>\n",
       "  </thead>\n",
       "  <tbody>\n",
       "    <tr>\n",
       "      <th>0</th>\n",
       "      <td>NaN</td>\n",
       "      <td>Region</td>\n",
       "      <td>Store ID</td>\n",
       "      <td>Product</td>\n",
       "      <td>Quantity</td>\n",
       "    </tr>\n",
       "    <tr>\n",
       "      <th>1</th>\n",
       "      <td>NaN</td>\n",
       "      <td>Americas</td>\n",
       "      <td>ID-237</td>\n",
       "      <td>iPhone 11</td>\n",
       "      <td>1521</td>\n",
       "    </tr>\n",
       "    <tr>\n",
       "      <th>2</th>\n",
       "      <td>NaN</td>\n",
       "      <td>APAC</td>\n",
       "      <td>ID-118</td>\n",
       "      <td>iPhone 12</td>\n",
       "      <td>1014</td>\n",
       "    </tr>\n",
       "    <tr>\n",
       "      <th>3</th>\n",
       "      <td>NaN</td>\n",
       "      <td>EMEA</td>\n",
       "      <td>ID-126</td>\n",
       "      <td>iPhone 7</td>\n",
       "      <td>5</td>\n",
       "    </tr>\n",
       "    <tr>\n",
       "      <th>4</th>\n",
       "      <td>NaN</td>\n",
       "      <td>Americas</td>\n",
       "      <td>ID-136</td>\n",
       "      <td>iPhone 11</td>\n",
       "      <td>509</td>\n",
       "    </tr>\n",
       "  </tbody>\n",
       "</table>\n",
       "</div>"
      ],
      "text/plain": [
       "   Unnamed: 0 Unnamed: 1 Unnamed: 2 Unnamed: 3 Unnamed: 4\n",
       "0         NaN     Region   Store ID    Product   Quantity\n",
       "1         NaN   Americas     ID-237  iPhone 11       1521\n",
       "2         NaN       APAC     ID-118  iPhone 12       1014\n",
       "3         NaN       EMEA     ID-126   iPhone 7          5\n",
       "4         NaN   Americas     ID-136  iPhone 11        509"
      ]
     },
     "execution_count": 2,
     "metadata": {},
     "output_type": "execute_result"
    }
   ],
   "source": [
    "data = pd.read_excel(\"Excel Project.xlsx\")\n",
    "data.head()"
   ]
  },
  {
   "cell_type": "code",
   "execution_count": 3,
   "id": "f4217591",
   "metadata": {},
   "outputs": [],
   "source": [
    "d = {'Name': [\"Abayomi\", \"Aderonke\",\"Emmanuel\"],\n",
    "    'Age':[23,34,25]}\n",
    "\n",
    "d = pd.DataFrame(d)"
   ]
  },
  {
   "cell_type": "code",
   "execution_count": 4,
   "id": "7f38dc13",
   "metadata": {},
   "outputs": [
    {
     "data": {
      "text/html": [
       "<div>\n",
       "<style scoped>\n",
       "    .dataframe tbody tr th:only-of-type {\n",
       "        vertical-align: middle;\n",
       "    }\n",
       "\n",
       "    .dataframe tbody tr th {\n",
       "        vertical-align: top;\n",
       "    }\n",
       "\n",
       "    .dataframe thead th {\n",
       "        text-align: right;\n",
       "    }\n",
       "</style>\n",
       "<table border=\"1\" class=\"dataframe\">\n",
       "  <thead>\n",
       "    <tr style=\"text-align: right;\">\n",
       "      <th></th>\n",
       "      <th>Name</th>\n",
       "      <th>Age</th>\n",
       "    </tr>\n",
       "  </thead>\n",
       "  <tbody>\n",
       "    <tr>\n",
       "      <th>0</th>\n",
       "      <td>Abayomi</td>\n",
       "      <td>23</td>\n",
       "    </tr>\n",
       "    <tr>\n",
       "      <th>1</th>\n",
       "      <td>Aderonke</td>\n",
       "      <td>34</td>\n",
       "    </tr>\n",
       "    <tr>\n",
       "      <th>2</th>\n",
       "      <td>Emmanuel</td>\n",
       "      <td>25</td>\n",
       "    </tr>\n",
       "  </tbody>\n",
       "</table>\n",
       "</div>"
      ],
      "text/plain": [
       "       Name  Age\n",
       "0   Abayomi   23\n",
       "1  Aderonke   34\n",
       "2  Emmanuel   25"
      ]
     },
     "execution_count": 4,
     "metadata": {},
     "output_type": "execute_result"
    }
   ],
   "source": [
    "d.head()"
   ]
  },
  {
   "cell_type": "code",
   "execution_count": 5,
   "id": "857ded52",
   "metadata": {},
   "outputs": [
    {
     "data": {
      "text/plain": [
       "35"
      ]
     },
     "execution_count": 5,
     "metadata": {},
     "output_type": "execute_result"
    }
   ],
   "source": [
    "len(data)"
   ]
  },
  {
   "cell_type": "code",
   "execution_count": 6,
   "id": "e02293c2",
   "metadata": {},
   "outputs": [],
   "source": [
    "# Region, Store ID, Product, Quantity"
   ]
  },
  {
   "cell_type": "code",
   "execution_count": 7,
   "id": "e834f4e7",
   "metadata": {},
   "outputs": [
    {
     "data": {
      "text/html": [
       "<div>\n",
       "<style scoped>\n",
       "    .dataframe tbody tr th:only-of-type {\n",
       "        vertical-align: middle;\n",
       "    }\n",
       "\n",
       "    .dataframe tbody tr th {\n",
       "        vertical-align: top;\n",
       "    }\n",
       "\n",
       "    .dataframe thead th {\n",
       "        text-align: right;\n",
       "    }\n",
       "</style>\n",
       "<table border=\"1\" class=\"dataframe\">\n",
       "  <thead>\n",
       "    <tr style=\"text-align: right;\">\n",
       "      <th></th>\n",
       "      <th>Unnamed: 0</th>\n",
       "      <th>Unnamed: 1</th>\n",
       "      <th>Unnamed: 2</th>\n",
       "      <th>Unnamed: 3</th>\n",
       "      <th>Unnamed: 4</th>\n",
       "    </tr>\n",
       "  </thead>\n",
       "  <tbody>\n",
       "    <tr>\n",
       "      <th>0</th>\n",
       "      <td>NaN</td>\n",
       "      <td>Region</td>\n",
       "      <td>Store ID</td>\n",
       "      <td>Product</td>\n",
       "      <td>Quantity</td>\n",
       "    </tr>\n",
       "    <tr>\n",
       "      <th>1</th>\n",
       "      <td>NaN</td>\n",
       "      <td>Americas</td>\n",
       "      <td>ID-237</td>\n",
       "      <td>iPhone 11</td>\n",
       "      <td>1521</td>\n",
       "    </tr>\n",
       "    <tr>\n",
       "      <th>2</th>\n",
       "      <td>NaN</td>\n",
       "      <td>APAC</td>\n",
       "      <td>ID-118</td>\n",
       "      <td>iPhone 12</td>\n",
       "      <td>1014</td>\n",
       "    </tr>\n",
       "    <tr>\n",
       "      <th>3</th>\n",
       "      <td>NaN</td>\n",
       "      <td>EMEA</td>\n",
       "      <td>ID-126</td>\n",
       "      <td>iPhone 7</td>\n",
       "      <td>5</td>\n",
       "    </tr>\n",
       "    <tr>\n",
       "      <th>4</th>\n",
       "      <td>NaN</td>\n",
       "      <td>Americas</td>\n",
       "      <td>ID-136</td>\n",
       "      <td>iPhone 11</td>\n",
       "      <td>509</td>\n",
       "    </tr>\n",
       "  </tbody>\n",
       "</table>\n",
       "</div>"
      ],
      "text/plain": [
       "   Unnamed: 0 Unnamed: 1 Unnamed: 2 Unnamed: 3 Unnamed: 4\n",
       "0         NaN     Region   Store ID    Product   Quantity\n",
       "1         NaN   Americas     ID-237  iPhone 11       1521\n",
       "2         NaN       APAC     ID-118  iPhone 12       1014\n",
       "3         NaN       EMEA     ID-126   iPhone 7          5\n",
       "4         NaN   Americas     ID-136  iPhone 11        509"
      ]
     },
     "execution_count": 7,
     "metadata": {},
     "output_type": "execute_result"
    }
   ],
   "source": [
    "data.head()"
   ]
  },
  {
   "cell_type": "code",
   "execution_count": 8,
   "id": "f504eef9",
   "metadata": {},
   "outputs": [],
   "source": [
    "data = data.reset_index(drop=True)"
   ]
  },
  {
   "cell_type": "code",
   "execution_count": 9,
   "id": "c090f818",
   "metadata": {},
   "outputs": [
    {
     "data": {
      "text/html": [
       "<div>\n",
       "<style scoped>\n",
       "    .dataframe tbody tr th:only-of-type {\n",
       "        vertical-align: middle;\n",
       "    }\n",
       "\n",
       "    .dataframe tbody tr th {\n",
       "        vertical-align: top;\n",
       "    }\n",
       "\n",
       "    .dataframe thead th {\n",
       "        text-align: right;\n",
       "    }\n",
       "</style>\n",
       "<table border=\"1\" class=\"dataframe\">\n",
       "  <thead>\n",
       "    <tr style=\"text-align: right;\">\n",
       "      <th></th>\n",
       "      <th>Unnamed: 0</th>\n",
       "      <th>Unnamed: 1</th>\n",
       "      <th>Unnamed: 2</th>\n",
       "      <th>Unnamed: 3</th>\n",
       "      <th>Unnamed: 4</th>\n",
       "    </tr>\n",
       "  </thead>\n",
       "  <tbody>\n",
       "    <tr>\n",
       "      <th>0</th>\n",
       "      <td>NaN</td>\n",
       "      <td>Region</td>\n",
       "      <td>Store ID</td>\n",
       "      <td>Product</td>\n",
       "      <td>Quantity</td>\n",
       "    </tr>\n",
       "    <tr>\n",
       "      <th>1</th>\n",
       "      <td>NaN</td>\n",
       "      <td>Americas</td>\n",
       "      <td>ID-237</td>\n",
       "      <td>iPhone 11</td>\n",
       "      <td>1521</td>\n",
       "    </tr>\n",
       "    <tr>\n",
       "      <th>2</th>\n",
       "      <td>NaN</td>\n",
       "      <td>APAC</td>\n",
       "      <td>ID-118</td>\n",
       "      <td>iPhone 12</td>\n",
       "      <td>1014</td>\n",
       "    </tr>\n",
       "    <tr>\n",
       "      <th>3</th>\n",
       "      <td>NaN</td>\n",
       "      <td>EMEA</td>\n",
       "      <td>ID-126</td>\n",
       "      <td>iPhone 7</td>\n",
       "      <td>5</td>\n",
       "    </tr>\n",
       "    <tr>\n",
       "      <th>4</th>\n",
       "      <td>NaN</td>\n",
       "      <td>Americas</td>\n",
       "      <td>ID-136</td>\n",
       "      <td>iPhone 11</td>\n",
       "      <td>509</td>\n",
       "    </tr>\n",
       "  </tbody>\n",
       "</table>\n",
       "</div>"
      ],
      "text/plain": [
       "   Unnamed: 0 Unnamed: 1 Unnamed: 2 Unnamed: 3 Unnamed: 4\n",
       "0         NaN     Region   Store ID    Product   Quantity\n",
       "1         NaN   Americas     ID-237  iPhone 11       1521\n",
       "2         NaN       APAC     ID-118  iPhone 12       1014\n",
       "3         NaN       EMEA     ID-126   iPhone 7          5\n",
       "4         NaN   Americas     ID-136  iPhone 11        509"
      ]
     },
     "execution_count": 9,
     "metadata": {},
     "output_type": "execute_result"
    }
   ],
   "source": [
    "data.head()"
   ]
  },
  {
   "cell_type": "code",
   "execution_count": 10,
   "id": "94d42700",
   "metadata": {},
   "outputs": [],
   "source": [
    "data.drop(['Unnamed: 0'], axis=1, inplace=True)"
   ]
  },
  {
   "cell_type": "code",
   "execution_count": 11,
   "id": "a609a6e1",
   "metadata": {},
   "outputs": [
    {
     "data": {
      "text/html": [
       "<div>\n",
       "<style scoped>\n",
       "    .dataframe tbody tr th:only-of-type {\n",
       "        vertical-align: middle;\n",
       "    }\n",
       "\n",
       "    .dataframe tbody tr th {\n",
       "        vertical-align: top;\n",
       "    }\n",
       "\n",
       "    .dataframe thead th {\n",
       "        text-align: right;\n",
       "    }\n",
       "</style>\n",
       "<table border=\"1\" class=\"dataframe\">\n",
       "  <thead>\n",
       "    <tr style=\"text-align: right;\">\n",
       "      <th></th>\n",
       "      <th>Unnamed: 1</th>\n",
       "      <th>Unnamed: 2</th>\n",
       "      <th>Unnamed: 3</th>\n",
       "      <th>Unnamed: 4</th>\n",
       "    </tr>\n",
       "  </thead>\n",
       "  <tbody>\n",
       "    <tr>\n",
       "      <th>0</th>\n",
       "      <td>Region</td>\n",
       "      <td>Store ID</td>\n",
       "      <td>Product</td>\n",
       "      <td>Quantity</td>\n",
       "    </tr>\n",
       "    <tr>\n",
       "      <th>1</th>\n",
       "      <td>Americas</td>\n",
       "      <td>ID-237</td>\n",
       "      <td>iPhone 11</td>\n",
       "      <td>1521</td>\n",
       "    </tr>\n",
       "    <tr>\n",
       "      <th>2</th>\n",
       "      <td>APAC</td>\n",
       "      <td>ID-118</td>\n",
       "      <td>iPhone 12</td>\n",
       "      <td>1014</td>\n",
       "    </tr>\n",
       "    <tr>\n",
       "      <th>3</th>\n",
       "      <td>EMEA</td>\n",
       "      <td>ID-126</td>\n",
       "      <td>iPhone 7</td>\n",
       "      <td>5</td>\n",
       "    </tr>\n",
       "    <tr>\n",
       "      <th>4</th>\n",
       "      <td>Americas</td>\n",
       "      <td>ID-136</td>\n",
       "      <td>iPhone 11</td>\n",
       "      <td>509</td>\n",
       "    </tr>\n",
       "  </tbody>\n",
       "</table>\n",
       "</div>"
      ],
      "text/plain": [
       "  Unnamed: 1 Unnamed: 2 Unnamed: 3 Unnamed: 4\n",
       "0     Region   Store ID    Product   Quantity\n",
       "1   Americas     ID-237  iPhone 11       1521\n",
       "2       APAC     ID-118  iPhone 12       1014\n",
       "3       EMEA     ID-126   iPhone 7          5\n",
       "4   Americas     ID-136  iPhone 11        509"
      ]
     },
     "execution_count": 11,
     "metadata": {},
     "output_type": "execute_result"
    }
   ],
   "source": [
    "data.head()"
   ]
  },
  {
   "cell_type": "code",
   "execution_count": 12,
   "id": "20785b6a",
   "metadata": {},
   "outputs": [],
   "source": [
    "data.drop(index=0, inplace=True)"
   ]
  },
  {
   "cell_type": "code",
   "execution_count": 13,
   "id": "339c3aa7",
   "metadata": {},
   "outputs": [
    {
     "data": {
      "text/html": [
       "<div>\n",
       "<style scoped>\n",
       "    .dataframe tbody tr th:only-of-type {\n",
       "        vertical-align: middle;\n",
       "    }\n",
       "\n",
       "    .dataframe tbody tr th {\n",
       "        vertical-align: top;\n",
       "    }\n",
       "\n",
       "    .dataframe thead th {\n",
       "        text-align: right;\n",
       "    }\n",
       "</style>\n",
       "<table border=\"1\" class=\"dataframe\">\n",
       "  <thead>\n",
       "    <tr style=\"text-align: right;\">\n",
       "      <th></th>\n",
       "      <th>Unnamed: 1</th>\n",
       "      <th>Unnamed: 2</th>\n",
       "      <th>Unnamed: 3</th>\n",
       "      <th>Unnamed: 4</th>\n",
       "    </tr>\n",
       "  </thead>\n",
       "  <tbody>\n",
       "    <tr>\n",
       "      <th>1</th>\n",
       "      <td>Americas</td>\n",
       "      <td>ID-237</td>\n",
       "      <td>iPhone 11</td>\n",
       "      <td>1521</td>\n",
       "    </tr>\n",
       "    <tr>\n",
       "      <th>2</th>\n",
       "      <td>APAC</td>\n",
       "      <td>ID-118</td>\n",
       "      <td>iPhone 12</td>\n",
       "      <td>1014</td>\n",
       "    </tr>\n",
       "    <tr>\n",
       "      <th>3</th>\n",
       "      <td>EMEA</td>\n",
       "      <td>ID-126</td>\n",
       "      <td>iPhone 7</td>\n",
       "      <td>5</td>\n",
       "    </tr>\n",
       "    <tr>\n",
       "      <th>4</th>\n",
       "      <td>Americas</td>\n",
       "      <td>ID-136</td>\n",
       "      <td>iPhone 11</td>\n",
       "      <td>509</td>\n",
       "    </tr>\n",
       "    <tr>\n",
       "      <th>5</th>\n",
       "      <td>EMEA</td>\n",
       "      <td>ID-15</td>\n",
       "      <td>iPhone 11</td>\n",
       "      <td>513</td>\n",
       "    </tr>\n",
       "  </tbody>\n",
       "</table>\n",
       "</div>"
      ],
      "text/plain": [
       "  Unnamed: 1 Unnamed: 2 Unnamed: 3 Unnamed: 4\n",
       "1   Americas     ID-237  iPhone 11       1521\n",
       "2       APAC     ID-118  iPhone 12       1014\n",
       "3       EMEA     ID-126   iPhone 7          5\n",
       "4   Americas     ID-136  iPhone 11        509\n",
       "5       EMEA      ID-15  iPhone 11        513"
      ]
     },
     "execution_count": 13,
     "metadata": {},
     "output_type": "execute_result"
    }
   ],
   "source": [
    "data.head()"
   ]
  },
  {
   "cell_type": "code",
   "execution_count": 14,
   "id": "a4b5179a",
   "metadata": {},
   "outputs": [
    {
     "data": {
      "text/html": [
       "<div>\n",
       "<style scoped>\n",
       "    .dataframe tbody tr th:only-of-type {\n",
       "        vertical-align: middle;\n",
       "    }\n",
       "\n",
       "    .dataframe tbody tr th {\n",
       "        vertical-align: top;\n",
       "    }\n",
       "\n",
       "    .dataframe thead th {\n",
       "        text-align: right;\n",
       "    }\n",
       "</style>\n",
       "<table border=\"1\" class=\"dataframe\">\n",
       "  <thead>\n",
       "    <tr style=\"text-align: right;\">\n",
       "      <th></th>\n",
       "      <th>Region</th>\n",
       "      <th>Store ID</th>\n",
       "      <th>Product</th>\n",
       "      <th>Quantity</th>\n",
       "    </tr>\n",
       "  </thead>\n",
       "  <tbody>\n",
       "    <tr>\n",
       "      <th>1</th>\n",
       "      <td>Americas</td>\n",
       "      <td>ID-237</td>\n",
       "      <td>iPhone 11</td>\n",
       "      <td>1521</td>\n",
       "    </tr>\n",
       "    <tr>\n",
       "      <th>2</th>\n",
       "      <td>APAC</td>\n",
       "      <td>ID-118</td>\n",
       "      <td>iPhone 12</td>\n",
       "      <td>1014</td>\n",
       "    </tr>\n",
       "    <tr>\n",
       "      <th>3</th>\n",
       "      <td>EMEA</td>\n",
       "      <td>ID-126</td>\n",
       "      <td>iPhone 7</td>\n",
       "      <td>5</td>\n",
       "    </tr>\n",
       "    <tr>\n",
       "      <th>4</th>\n",
       "      <td>Americas</td>\n",
       "      <td>ID-136</td>\n",
       "      <td>iPhone 11</td>\n",
       "      <td>509</td>\n",
       "    </tr>\n",
       "    <tr>\n",
       "      <th>5</th>\n",
       "      <td>EMEA</td>\n",
       "      <td>ID-15</td>\n",
       "      <td>iPhone 11</td>\n",
       "      <td>513</td>\n",
       "    </tr>\n",
       "  </tbody>\n",
       "</table>\n",
       "</div>"
      ],
      "text/plain": [
       "     Region Store ID    Product Quantity\n",
       "1  Americas   ID-237  iPhone 11     1521\n",
       "2      APAC   ID-118  iPhone 12     1014\n",
       "3      EMEA   ID-126   iPhone 7        5\n",
       "4  Americas   ID-136  iPhone 11      509\n",
       "5      EMEA    ID-15  iPhone 11      513"
      ]
     },
     "execution_count": 14,
     "metadata": {},
     "output_type": "execute_result"
    }
   ],
   "source": [
    "# change column labels\n",
    "col_labels = {'Unnamed: 1':'Region',\n",
    "             'Unnamed: 2':'Store ID',\n",
    "             'Unnamed: 3':'Product',\n",
    "             'Unnamed: 4':'Quantity'}\n",
    "\n",
    "data.rename(columns= col_labels, inplace=True)\n",
    "data.head()"
   ]
  },
  {
   "cell_type": "code",
   "execution_count": 15,
   "id": "50d07456",
   "metadata": {},
   "outputs": [
    {
     "data": {
      "text/plain": [
       "34"
      ]
     },
     "execution_count": 15,
     "metadata": {},
     "output_type": "execute_result"
    }
   ],
   "source": [
    "len(data)"
   ]
  },
  {
   "cell_type": "markdown",
   "id": "85e9f889",
   "metadata": {},
   "source": [
    "# Missing value"
   ]
  },
  {
   "cell_type": "code",
   "execution_count": 16,
   "id": "b13de5ae",
   "metadata": {},
   "outputs": [
    {
     "data": {
      "text/plain": [
       "Region      0\n",
       "Store ID    0\n",
       "Product     0\n",
       "Quantity    0\n",
       "dtype: int64"
      ]
     },
     "execution_count": 16,
     "metadata": {},
     "output_type": "execute_result"
    }
   ],
   "source": [
    "data.isnull().sum()"
   ]
  },
  {
   "cell_type": "code",
   "execution_count": 17,
   "id": "3e3f2d0a",
   "metadata": {},
   "outputs": [
    {
     "name": "stdout",
     "output_type": "stream",
     "text": [
      "<class 'pandas.core.frame.DataFrame'>\n",
      "RangeIndex: 34 entries, 1 to 34\n",
      "Data columns (total 4 columns):\n",
      " #   Column    Non-Null Count  Dtype \n",
      "---  ------    --------------  ----- \n",
      " 0   Region    34 non-null     object\n",
      " 1   Store ID  34 non-null     object\n",
      " 2   Product   34 non-null     object\n",
      " 3   Quantity  34 non-null     object\n",
      "dtypes: object(4)\n",
      "memory usage: 1.2+ KB\n"
     ]
    }
   ],
   "source": [
    "data.info()"
   ]
  },
  {
   "cell_type": "code",
   "execution_count": 18,
   "id": "69525c1b",
   "metadata": {},
   "outputs": [],
   "source": [
    "data['Quantity'] = data['Quantity'].astype(int)"
   ]
  },
  {
   "cell_type": "code",
   "execution_count": 19,
   "id": "f94445c0",
   "metadata": {},
   "outputs": [
    {
     "name": "stdout",
     "output_type": "stream",
     "text": [
      "<class 'pandas.core.frame.DataFrame'>\n",
      "RangeIndex: 34 entries, 1 to 34\n",
      "Data columns (total 4 columns):\n",
      " #   Column    Non-Null Count  Dtype \n",
      "---  ------    --------------  ----- \n",
      " 0   Region    34 non-null     object\n",
      " 1   Store ID  34 non-null     object\n",
      " 2   Product   34 non-null     object\n",
      " 3   Quantity  34 non-null     int64 \n",
      "dtypes: int64(1), object(3)\n",
      "memory usage: 1.2+ KB\n"
     ]
    }
   ],
   "source": [
    "data.info()"
   ]
  },
  {
   "cell_type": "code",
   "execution_count": 20,
   "id": "f2ae9a3f",
   "metadata": {},
   "outputs": [
    {
     "data": {
      "text/plain": [
       "array(['Americas', 'APAC', 'EMEA'], dtype=object)"
      ]
     },
     "execution_count": 20,
     "metadata": {},
     "output_type": "execute_result"
    }
   ],
   "source": [
    "data['Region'].unique()"
   ]
  },
  {
   "cell_type": "code",
   "execution_count": 21,
   "id": "9423b677",
   "metadata": {},
   "outputs": [
    {
     "data": {
      "text/plain": [
       "array(['ID-237', 'ID-118', 'ID-126', 'ID-136', 'ID-15', 'ID-26', 'ID-255',\n",
       "       'ID-370', 'ID-258', 'ID-46', 'ID-67', 'ID-10', 'ID-11', 'ID-48',\n",
       "       'ID-59', 'ID-60', 'ID-13', 'ID-2', 'ID-5', 'ID-7', 'ID-3', 'ID-4',\n",
       "       'ID-201', 'ID-159', 'ID-137', 'ID-134', 'ID-139', 'ID-122'],\n",
       "      dtype=object)"
      ]
     },
     "execution_count": 21,
     "metadata": {},
     "output_type": "execute_result"
    }
   ],
   "source": [
    "data['Store ID'].unique()"
   ]
  },
  {
   "cell_type": "code",
   "execution_count": 22,
   "id": "c3b78060",
   "metadata": {},
   "outputs": [
    {
     "data": {
      "text/plain": [
       "array(['iPhone 11', 'iPhone 12', 'iPhone 7', 'iPhone 8', 'iiPhone 7',\n",
       "       'iiPhone 6', 'iiPhone 11'], dtype=object)"
      ]
     },
     "execution_count": 22,
     "metadata": {},
     "output_type": "execute_result"
    }
   ],
   "source": [
    "data['Product'].unique() "
   ]
  },
  {
   "cell_type": "code",
   "execution_count": 23,
   "id": "f161266e",
   "metadata": {},
   "outputs": [
    {
     "data": {
      "text/plain": [
       "array([1521, 1014,    5,  509,  513,  508,  458,  568,   56,  158,    7,\n",
       "          3,    2,    1,    8,   89,   15,   16,   12,  102,  185,  123,\n",
       "       1054,  236,  154,  125,  388])"
      ]
     },
     "execution_count": 23,
     "metadata": {},
     "output_type": "execute_result"
    }
   ],
   "source": [
    "data['Quantity'].unique()"
   ]
  },
  {
   "cell_type": "markdown",
   "id": "f7dc40e1",
   "metadata": {},
   "source": [
    "# Data Cleaning "
   ]
  },
  {
   "cell_type": "code",
   "execution_count": 24,
   "id": "00cfff38",
   "metadata": {},
   "outputs": [],
   "source": [
    "data['Product'] = data['Product'].replace(['iiPhone 11'], 'iPhone 11')"
   ]
  },
  {
   "cell_type": "code",
   "execution_count": 25,
   "id": "2d22a72f",
   "metadata": {},
   "outputs": [
    {
     "data": {
      "text/plain": [
       "array(['iPhone 11', 'iPhone 12', 'iPhone 7', 'iPhone 8', 'iiPhone 7',\n",
       "       'iiPhone 6'], dtype=object)"
      ]
     },
     "execution_count": 25,
     "metadata": {},
     "output_type": "execute_result"
    }
   ],
   "source": [
    "data['Product'].unique() "
   ]
  },
  {
   "cell_type": "code",
   "execution_count": 26,
   "id": "d03d5b3c",
   "metadata": {},
   "outputs": [],
   "source": [
    "data['Product'] = data['Product'].replace(['iiPhone 7'], 'iPhone 7')"
   ]
  },
  {
   "cell_type": "code",
   "execution_count": 27,
   "id": "0c168a80",
   "metadata": {},
   "outputs": [
    {
     "data": {
      "text/plain": [
       "array(['iPhone 11', 'iPhone 12', 'iPhone 7', 'iPhone 8', 'iiPhone 6'],\n",
       "      dtype=object)"
      ]
     },
     "execution_count": 27,
     "metadata": {},
     "output_type": "execute_result"
    }
   ],
   "source": [
    "data['Product'].unique() "
   ]
  },
  {
   "cell_type": "code",
   "execution_count": 28,
   "id": "59475dbf",
   "metadata": {},
   "outputs": [],
   "source": [
    "data['Product'] = data['Product'].replace(['iiPhone 6'], 'iPhone 6')"
   ]
  },
  {
   "cell_type": "code",
   "execution_count": 29,
   "id": "64e151d2",
   "metadata": {},
   "outputs": [
    {
     "data": {
      "text/plain": [
       "array(['iPhone 11', 'iPhone 12', 'iPhone 7', 'iPhone 8', 'iPhone 6'],\n",
       "      dtype=object)"
      ]
     },
     "execution_count": 29,
     "metadata": {},
     "output_type": "execute_result"
    }
   ],
   "source": [
    "data['Product'].unique() "
   ]
  },
  {
   "cell_type": "code",
   "execution_count": 30,
   "id": "e8888793",
   "metadata": {},
   "outputs": [
    {
     "data": {
      "text/html": [
       "<div>\n",
       "<style scoped>\n",
       "    .dataframe tbody tr th:only-of-type {\n",
       "        vertical-align: middle;\n",
       "    }\n",
       "\n",
       "    .dataframe tbody tr th {\n",
       "        vertical-align: top;\n",
       "    }\n",
       "\n",
       "    .dataframe thead th {\n",
       "        text-align: right;\n",
       "    }\n",
       "</style>\n",
       "<table border=\"1\" class=\"dataframe\">\n",
       "  <thead>\n",
       "    <tr style=\"text-align: right;\">\n",
       "      <th></th>\n",
       "      <th>Region</th>\n",
       "      <th>Store ID</th>\n",
       "      <th>Product</th>\n",
       "      <th>Quantity</th>\n",
       "    </tr>\n",
       "  </thead>\n",
       "  <tbody>\n",
       "    <tr>\n",
       "      <th>1</th>\n",
       "      <td>Americas</td>\n",
       "      <td>ID-237</td>\n",
       "      <td>iPhone 11</td>\n",
       "      <td>1521</td>\n",
       "    </tr>\n",
       "    <tr>\n",
       "      <th>2</th>\n",
       "      <td>APAC</td>\n",
       "      <td>ID-118</td>\n",
       "      <td>iPhone 12</td>\n",
       "      <td>1014</td>\n",
       "    </tr>\n",
       "    <tr>\n",
       "      <th>3</th>\n",
       "      <td>EMEA</td>\n",
       "      <td>ID-126</td>\n",
       "      <td>iPhone 7</td>\n",
       "      <td>5</td>\n",
       "    </tr>\n",
       "    <tr>\n",
       "      <th>4</th>\n",
       "      <td>Americas</td>\n",
       "      <td>ID-136</td>\n",
       "      <td>iPhone 11</td>\n",
       "      <td>509</td>\n",
       "    </tr>\n",
       "    <tr>\n",
       "      <th>5</th>\n",
       "      <td>EMEA</td>\n",
       "      <td>ID-15</td>\n",
       "      <td>iPhone 11</td>\n",
       "      <td>513</td>\n",
       "    </tr>\n",
       "  </tbody>\n",
       "</table>\n",
       "</div>"
      ],
      "text/plain": [
       "     Region Store ID    Product  Quantity\n",
       "1  Americas   ID-237  iPhone 11      1521\n",
       "2      APAC   ID-118  iPhone 12      1014\n",
       "3      EMEA   ID-126   iPhone 7         5\n",
       "4  Americas   ID-136  iPhone 11       509\n",
       "5      EMEA    ID-15  iPhone 11       513"
      ]
     },
     "execution_count": 30,
     "metadata": {},
     "output_type": "execute_result"
    }
   ],
   "source": [
    "data.head()"
   ]
  },
  {
   "cell_type": "code",
   "execution_count": 31,
   "id": "6458793d",
   "metadata": {},
   "outputs": [],
   "source": [
    " iPhone11 = data[data['Product'] == 'iPhone 11']"
   ]
  },
  {
   "cell_type": "code",
   "execution_count": 32,
   "id": "71d1b0e6",
   "metadata": {},
   "outputs": [
    {
     "data": {
      "text/html": [
       "<div>\n",
       "<style scoped>\n",
       "    .dataframe tbody tr th:only-of-type {\n",
       "        vertical-align: middle;\n",
       "    }\n",
       "\n",
       "    .dataframe tbody tr th {\n",
       "        vertical-align: top;\n",
       "    }\n",
       "\n",
       "    .dataframe thead th {\n",
       "        text-align: right;\n",
       "    }\n",
       "</style>\n",
       "<table border=\"1\" class=\"dataframe\">\n",
       "  <thead>\n",
       "    <tr style=\"text-align: right;\">\n",
       "      <th></th>\n",
       "      <th>Region</th>\n",
       "      <th>Store ID</th>\n",
       "      <th>Product</th>\n",
       "      <th>Quantity</th>\n",
       "    </tr>\n",
       "  </thead>\n",
       "  <tbody>\n",
       "    <tr>\n",
       "      <th>1</th>\n",
       "      <td>Americas</td>\n",
       "      <td>ID-237</td>\n",
       "      <td>iPhone 11</td>\n",
       "      <td>1521</td>\n",
       "    </tr>\n",
       "    <tr>\n",
       "      <th>4</th>\n",
       "      <td>Americas</td>\n",
       "      <td>ID-136</td>\n",
       "      <td>iPhone 11</td>\n",
       "      <td>509</td>\n",
       "    </tr>\n",
       "    <tr>\n",
       "      <th>5</th>\n",
       "      <td>EMEA</td>\n",
       "      <td>ID-15</td>\n",
       "      <td>iPhone 11</td>\n",
       "      <td>513</td>\n",
       "    </tr>\n",
       "    <tr>\n",
       "      <th>6</th>\n",
       "      <td>Americas</td>\n",
       "      <td>ID-26</td>\n",
       "      <td>iPhone 11</td>\n",
       "      <td>508</td>\n",
       "    </tr>\n",
       "    <tr>\n",
       "      <th>7</th>\n",
       "      <td>Americas</td>\n",
       "      <td>ID-255</td>\n",
       "      <td>iPhone 11</td>\n",
       "      <td>458</td>\n",
       "    </tr>\n",
       "  </tbody>\n",
       "</table>\n",
       "</div>"
      ],
      "text/plain": [
       "     Region Store ID    Product  Quantity\n",
       "1  Americas   ID-237  iPhone 11      1521\n",
       "4  Americas   ID-136  iPhone 11       509\n",
       "5      EMEA    ID-15  iPhone 11       513\n",
       "6  Americas    ID-26  iPhone 11       508\n",
       "7  Americas   ID-255  iPhone 11       458"
      ]
     },
     "execution_count": 32,
     "metadata": {},
     "output_type": "execute_result"
    }
   ],
   "source": [
    "iPhone11.head()"
   ]
  },
  {
   "cell_type": "code",
   "execution_count": 33,
   "id": "3b8e80dc",
   "metadata": {
    "scrolled": true
   },
   "outputs": [
    {
     "data": {
      "text/plain": [
       "16"
      ]
     },
     "execution_count": 33,
     "metadata": {},
     "output_type": "execute_result"
    }
   ],
   "source": [
    "len(iPhone11)"
   ]
  },
  {
   "cell_type": "code",
   "execution_count": 34,
   "id": "56a7702a",
   "metadata": {},
   "outputs": [],
   "source": [
    " iPhone12 = data[data['Product'] == 'iPhone 12'] "
   ]
  },
  {
   "cell_type": "code",
   "execution_count": 35,
   "id": "d74c8c8f",
   "metadata": {},
   "outputs": [
    {
     "data": {
      "text/html": [
       "<div>\n",
       "<style scoped>\n",
       "    .dataframe tbody tr th:only-of-type {\n",
       "        vertical-align: middle;\n",
       "    }\n",
       "\n",
       "    .dataframe tbody tr th {\n",
       "        vertical-align: top;\n",
       "    }\n",
       "\n",
       "    .dataframe thead th {\n",
       "        text-align: right;\n",
       "    }\n",
       "</style>\n",
       "<table border=\"1\" class=\"dataframe\">\n",
       "  <thead>\n",
       "    <tr style=\"text-align: right;\">\n",
       "      <th></th>\n",
       "      <th>Region</th>\n",
       "      <th>Store ID</th>\n",
       "      <th>Product</th>\n",
       "      <th>Quantity</th>\n",
       "    </tr>\n",
       "  </thead>\n",
       "  <tbody>\n",
       "    <tr>\n",
       "      <th>2</th>\n",
       "      <td>APAC</td>\n",
       "      <td>ID-118</td>\n",
       "      <td>iPhone 12</td>\n",
       "      <td>1014</td>\n",
       "    </tr>\n",
       "    <tr>\n",
       "      <th>27</th>\n",
       "      <td>Americas</td>\n",
       "      <td>ID-4</td>\n",
       "      <td>iPhone 12</td>\n",
       "      <td>1054</td>\n",
       "    </tr>\n",
       "    <tr>\n",
       "      <th>33</th>\n",
       "      <td>APAC</td>\n",
       "      <td>ID-139</td>\n",
       "      <td>iPhone 12</td>\n",
       "      <td>388</td>\n",
       "    </tr>\n",
       "    <tr>\n",
       "      <th>34</th>\n",
       "      <td>APAC</td>\n",
       "      <td>ID-122</td>\n",
       "      <td>iPhone 12</td>\n",
       "      <td>125</td>\n",
       "    </tr>\n",
       "  </tbody>\n",
       "</table>\n",
       "</div>"
      ],
      "text/plain": [
       "      Region Store ID    Product  Quantity\n",
       "2       APAC   ID-118  iPhone 12      1014\n",
       "27  Americas     ID-4  iPhone 12      1054\n",
       "33      APAC   ID-139  iPhone 12       388\n",
       "34      APAC   ID-122  iPhone 12       125"
      ]
     },
     "execution_count": 35,
     "metadata": {},
     "output_type": "execute_result"
    }
   ],
   "source": [
    " iPhone12.head()"
   ]
  },
  {
   "cell_type": "code",
   "execution_count": 36,
   "id": "0089eafc",
   "metadata": {},
   "outputs": [
    {
     "data": {
      "text/plain": [
       "4"
      ]
     },
     "execution_count": 36,
     "metadata": {},
     "output_type": "execute_result"
    }
   ],
   "source": [
    "len(iPhone12)"
   ]
  },
  {
   "cell_type": "code",
   "execution_count": 37,
   "id": "68fa2040",
   "metadata": {},
   "outputs": [],
   "source": [
    "  iPhone8 = data[data['Product'] == 'iPhone 8'] "
   ]
  },
  {
   "cell_type": "code",
   "execution_count": 38,
   "id": "a21d6b02",
   "metadata": {},
   "outputs": [
    {
     "data": {
      "text/html": [
       "<div>\n",
       "<style scoped>\n",
       "    .dataframe tbody tr th:only-of-type {\n",
       "        vertical-align: middle;\n",
       "    }\n",
       "\n",
       "    .dataframe tbody tr th {\n",
       "        vertical-align: top;\n",
       "    }\n",
       "\n",
       "    .dataframe thead th {\n",
       "        text-align: right;\n",
       "    }\n",
       "</style>\n",
       "<table border=\"1\" class=\"dataframe\">\n",
       "  <thead>\n",
       "    <tr style=\"text-align: right;\">\n",
       "      <th></th>\n",
       "      <th>Region</th>\n",
       "      <th>Store ID</th>\n",
       "      <th>Product</th>\n",
       "      <th>Quantity</th>\n",
       "    </tr>\n",
       "  </thead>\n",
       "  <tbody>\n",
       "    <tr>\n",
       "      <th>11</th>\n",
       "      <td>APAC</td>\n",
       "      <td>ID-46</td>\n",
       "      <td>iPhone 8</td>\n",
       "      <td>7</td>\n",
       "    </tr>\n",
       "    <tr>\n",
       "      <th>12</th>\n",
       "      <td>Americas</td>\n",
       "      <td>ID-67</td>\n",
       "      <td>iPhone 8</td>\n",
       "      <td>7</td>\n",
       "    </tr>\n",
       "    <tr>\n",
       "      <th>13</th>\n",
       "      <td>EMEA</td>\n",
       "      <td>ID-10</td>\n",
       "      <td>iPhone 8</td>\n",
       "      <td>3</td>\n",
       "    </tr>\n",
       "  </tbody>\n",
       "</table>\n",
       "</div>"
      ],
      "text/plain": [
       "      Region Store ID   Product  Quantity\n",
       "11      APAC    ID-46  iPhone 8         7\n",
       "12  Americas    ID-67  iPhone 8         7\n",
       "13      EMEA    ID-10  iPhone 8         3"
      ]
     },
     "execution_count": 38,
     "metadata": {},
     "output_type": "execute_result"
    }
   ],
   "source": [
    "iPhone8.head()"
   ]
  },
  {
   "cell_type": "code",
   "execution_count": 39,
   "id": "508f87da",
   "metadata": {},
   "outputs": [
    {
     "data": {
      "text/plain": [
       "3"
      ]
     },
     "execution_count": 39,
     "metadata": {},
     "output_type": "execute_result"
    }
   ],
   "source": [
    "len(iPhone8)"
   ]
  },
  {
   "cell_type": "code",
   "execution_count": 40,
   "id": "3d405a0b",
   "metadata": {},
   "outputs": [],
   "source": [
    " iPhone7 = data[data['Product'] == 'iPhone 7'] "
   ]
  },
  {
   "cell_type": "code",
   "execution_count": 41,
   "id": "c0c1b59c",
   "metadata": {},
   "outputs": [
    {
     "data": {
      "text/html": [
       "<div>\n",
       "<style scoped>\n",
       "    .dataframe tbody tr th:only-of-type {\n",
       "        vertical-align: middle;\n",
       "    }\n",
       "\n",
       "    .dataframe tbody tr th {\n",
       "        vertical-align: top;\n",
       "    }\n",
       "\n",
       "    .dataframe thead th {\n",
       "        text-align: right;\n",
       "    }\n",
       "</style>\n",
       "<table border=\"1\" class=\"dataframe\">\n",
       "  <thead>\n",
       "    <tr style=\"text-align: right;\">\n",
       "      <th></th>\n",
       "      <th>Region</th>\n",
       "      <th>Store ID</th>\n",
       "      <th>Product</th>\n",
       "      <th>Quantity</th>\n",
       "    </tr>\n",
       "  </thead>\n",
       "  <tbody>\n",
       "    <tr>\n",
       "      <th>3</th>\n",
       "      <td>EMEA</td>\n",
       "      <td>ID-126</td>\n",
       "      <td>iPhone 7</td>\n",
       "      <td>5</td>\n",
       "    </tr>\n",
       "    <tr>\n",
       "      <th>14</th>\n",
       "      <td>APAC</td>\n",
       "      <td>ID-10</td>\n",
       "      <td>iPhone 7</td>\n",
       "      <td>5</td>\n",
       "    </tr>\n",
       "    <tr>\n",
       "      <th>15</th>\n",
       "      <td>Americas</td>\n",
       "      <td>ID-11</td>\n",
       "      <td>iPhone 7</td>\n",
       "      <td>2</td>\n",
       "    </tr>\n",
       "    <tr>\n",
       "      <th>16</th>\n",
       "      <td>Americas</td>\n",
       "      <td>ID-11</td>\n",
       "      <td>iPhone 7</td>\n",
       "      <td>1</td>\n",
       "    </tr>\n",
       "    <tr>\n",
       "      <th>17</th>\n",
       "      <td>EMEA</td>\n",
       "      <td>ID-48</td>\n",
       "      <td>iPhone 7</td>\n",
       "      <td>8</td>\n",
       "    </tr>\n",
       "  </tbody>\n",
       "</table>\n",
       "</div>"
      ],
      "text/plain": [
       "      Region Store ID   Product  Quantity\n",
       "3       EMEA   ID-126  iPhone 7         5\n",
       "14      APAC    ID-10  iPhone 7         5\n",
       "15  Americas    ID-11  iPhone 7         2\n",
       "16  Americas    ID-11  iPhone 7         1\n",
       "17      EMEA    ID-48  iPhone 7         8"
      ]
     },
     "execution_count": 41,
     "metadata": {},
     "output_type": "execute_result"
    }
   ],
   "source": [
    "iPhone7.head()"
   ]
  },
  {
   "cell_type": "code",
   "execution_count": 42,
   "id": "294ea2db",
   "metadata": {},
   "outputs": [
    {
     "data": {
      "text/plain": [
       "10"
      ]
     },
     "execution_count": 42,
     "metadata": {},
     "output_type": "execute_result"
    }
   ],
   "source": [
    "len(iPhone7)"
   ]
  },
  {
   "cell_type": "code",
   "execution_count": 43,
   "id": "4a3d8846",
   "metadata": {},
   "outputs": [],
   "source": [
    " iPhone6 = data[data['Product'] == 'iPhone 6'] "
   ]
  },
  {
   "cell_type": "code",
   "execution_count": 44,
   "id": "af2658d2",
   "metadata": {},
   "outputs": [
    {
     "data": {
      "text/html": [
       "<div>\n",
       "<style scoped>\n",
       "    .dataframe tbody tr th:only-of-type {\n",
       "        vertical-align: middle;\n",
       "    }\n",
       "\n",
       "    .dataframe tbody tr th {\n",
       "        vertical-align: top;\n",
       "    }\n",
       "\n",
       "    .dataframe thead th {\n",
       "        text-align: right;\n",
       "    }\n",
       "</style>\n",
       "<table border=\"1\" class=\"dataframe\">\n",
       "  <thead>\n",
       "    <tr style=\"text-align: right;\">\n",
       "      <th></th>\n",
       "      <th>Region</th>\n",
       "      <th>Store ID</th>\n",
       "      <th>Product</th>\n",
       "      <th>Quantity</th>\n",
       "    </tr>\n",
       "  </thead>\n",
       "  <tbody>\n",
       "    <tr>\n",
       "      <th>28</th>\n",
       "      <td>Americas</td>\n",
       "      <td>ID-2</td>\n",
       "      <td>iPhone 6</td>\n",
       "      <td>1</td>\n",
       "    </tr>\n",
       "  </tbody>\n",
       "</table>\n",
       "</div>"
      ],
      "text/plain": [
       "      Region Store ID   Product  Quantity\n",
       "28  Americas     ID-2  iPhone 6         1"
      ]
     },
     "execution_count": 44,
     "metadata": {},
     "output_type": "execute_result"
    }
   ],
   "source": [
    "iPhone6.head()"
   ]
  },
  {
   "cell_type": "code",
   "execution_count": 45,
   "id": "c0790e80",
   "metadata": {},
   "outputs": [
    {
     "data": {
      "text/plain": [
       "1"
      ]
     },
     "execution_count": 45,
     "metadata": {},
     "output_type": "execute_result"
    }
   ],
   "source": [
    "len(iPhone6)"
   ]
  },
  {
   "cell_type": "code",
   "execution_count": 46,
   "id": "95a5d695",
   "metadata": {},
   "outputs": [
    {
     "data": {
      "text/html": [
       "<div>\n",
       "<style scoped>\n",
       "    .dataframe tbody tr th:only-of-type {\n",
       "        vertical-align: middle;\n",
       "    }\n",
       "\n",
       "    .dataframe tbody tr th {\n",
       "        vertical-align: top;\n",
       "    }\n",
       "\n",
       "    .dataframe thead th {\n",
       "        text-align: right;\n",
       "    }\n",
       "</style>\n",
       "<table border=\"1\" class=\"dataframe\">\n",
       "  <thead>\n",
       "    <tr style=\"text-align: right;\">\n",
       "      <th></th>\n",
       "      <th>Region</th>\n",
       "      <th>Store ID</th>\n",
       "      <th>Product</th>\n",
       "      <th>Quantity</th>\n",
       "    </tr>\n",
       "  </thead>\n",
       "  <tbody>\n",
       "    <tr>\n",
       "      <th>1</th>\n",
       "      <td>Americas</td>\n",
       "      <td>ID-237</td>\n",
       "      <td>iPhone 11</td>\n",
       "      <td>1521</td>\n",
       "    </tr>\n",
       "    <tr>\n",
       "      <th>4</th>\n",
       "      <td>Americas</td>\n",
       "      <td>ID-136</td>\n",
       "      <td>iPhone 11</td>\n",
       "      <td>509</td>\n",
       "    </tr>\n",
       "    <tr>\n",
       "      <th>5</th>\n",
       "      <td>EMEA</td>\n",
       "      <td>ID-15</td>\n",
       "      <td>iPhone 11</td>\n",
       "      <td>513</td>\n",
       "    </tr>\n",
       "    <tr>\n",
       "      <th>6</th>\n",
       "      <td>Americas</td>\n",
       "      <td>ID-26</td>\n",
       "      <td>iPhone 11</td>\n",
       "      <td>508</td>\n",
       "    </tr>\n",
       "    <tr>\n",
       "      <th>7</th>\n",
       "      <td>Americas</td>\n",
       "      <td>ID-255</td>\n",
       "      <td>iPhone 11</td>\n",
       "      <td>458</td>\n",
       "    </tr>\n",
       "  </tbody>\n",
       "</table>\n",
       "</div>"
      ],
      "text/plain": [
       "     Region Store ID    Product  Quantity\n",
       "1  Americas   ID-237  iPhone 11      1521\n",
       "4  Americas   ID-136  iPhone 11       509\n",
       "5      EMEA    ID-15  iPhone 11       513\n",
       "6  Americas    ID-26  iPhone 11       508\n",
       "7  Americas   ID-255  iPhone 11       458"
      ]
     },
     "execution_count": 46,
     "metadata": {},
     "output_type": "execute_result"
    }
   ],
   "source": [
    "iPhone11.head()"
   ]
  },
  {
   "cell_type": "markdown",
   "id": "2e9c9e9b",
   "metadata": {},
   "source": [
    "## iPhone 11"
   ]
  },
  {
   "cell_type": "code",
   "execution_count": 47,
   "id": "20bae0fc",
   "metadata": {},
   "outputs": [],
   "source": [
    "  iPhone11_America = iPhone11[iPhone11['Region'] == 'Americas'] "
   ]
  },
  {
   "cell_type": "code",
   "execution_count": 48,
   "id": "db24a3cf",
   "metadata": {},
   "outputs": [
    {
     "data": {
      "text/html": [
       "<div>\n",
       "<style scoped>\n",
       "    .dataframe tbody tr th:only-of-type {\n",
       "        vertical-align: middle;\n",
       "    }\n",
       "\n",
       "    .dataframe tbody tr th {\n",
       "        vertical-align: top;\n",
       "    }\n",
       "\n",
       "    .dataframe thead th {\n",
       "        text-align: right;\n",
       "    }\n",
       "</style>\n",
       "<table border=\"1\" class=\"dataframe\">\n",
       "  <thead>\n",
       "    <tr style=\"text-align: right;\">\n",
       "      <th></th>\n",
       "      <th>Region</th>\n",
       "      <th>Store ID</th>\n",
       "      <th>Product</th>\n",
       "      <th>Quantity</th>\n",
       "    </tr>\n",
       "  </thead>\n",
       "  <tbody>\n",
       "    <tr>\n",
       "      <th>1</th>\n",
       "      <td>Americas</td>\n",
       "      <td>ID-237</td>\n",
       "      <td>iPhone 11</td>\n",
       "      <td>1521</td>\n",
       "    </tr>\n",
       "    <tr>\n",
       "      <th>4</th>\n",
       "      <td>Americas</td>\n",
       "      <td>ID-136</td>\n",
       "      <td>iPhone 11</td>\n",
       "      <td>509</td>\n",
       "    </tr>\n",
       "    <tr>\n",
       "      <th>6</th>\n",
       "      <td>Americas</td>\n",
       "      <td>ID-26</td>\n",
       "      <td>iPhone 11</td>\n",
       "      <td>508</td>\n",
       "    </tr>\n",
       "    <tr>\n",
       "      <th>7</th>\n",
       "      <td>Americas</td>\n",
       "      <td>ID-255</td>\n",
       "      <td>iPhone 11</td>\n",
       "      <td>458</td>\n",
       "    </tr>\n",
       "    <tr>\n",
       "      <th>8</th>\n",
       "      <td>Americas</td>\n",
       "      <td>ID-370</td>\n",
       "      <td>iPhone 11</td>\n",
       "      <td>568</td>\n",
       "    </tr>\n",
       "    <tr>\n",
       "      <th>24</th>\n",
       "      <td>Americas</td>\n",
       "      <td>ID-7</td>\n",
       "      <td>iPhone 11</td>\n",
       "      <td>185</td>\n",
       "    </tr>\n",
       "    <tr>\n",
       "      <th>29</th>\n",
       "      <td>Americas</td>\n",
       "      <td>ID-201</td>\n",
       "      <td>iPhone 11</td>\n",
       "      <td>236</td>\n",
       "    </tr>\n",
       "  </tbody>\n",
       "</table>\n",
       "</div>"
      ],
      "text/plain": [
       "      Region Store ID    Product  Quantity\n",
       "1   Americas   ID-237  iPhone 11      1521\n",
       "4   Americas   ID-136  iPhone 11       509\n",
       "6   Americas    ID-26  iPhone 11       508\n",
       "7   Americas   ID-255  iPhone 11       458\n",
       "8   Americas   ID-370  iPhone 11       568\n",
       "24  Americas     ID-7  iPhone 11       185\n",
       "29  Americas   ID-201  iPhone 11       236"
      ]
     },
     "execution_count": 48,
     "metadata": {},
     "output_type": "execute_result"
    }
   ],
   "source": [
    "iPhone11_America"
   ]
  },
  {
   "cell_type": "code",
   "execution_count": 49,
   "id": "025942b5",
   "metadata": {},
   "outputs": [
    {
     "data": {
      "text/plain": [
       "7"
      ]
     },
     "execution_count": 49,
     "metadata": {},
     "output_type": "execute_result"
    }
   ],
   "source": [
    "len(iPhone11_America)"
   ]
  },
  {
   "cell_type": "code",
   "execution_count": 50,
   "id": "bd435008",
   "metadata": {},
   "outputs": [],
   "source": [
    "  iPhone11_Apac = iPhone11[iPhone11['Region'] == 'APAC'] "
   ]
  },
  {
   "cell_type": "code",
   "execution_count": 51,
   "id": "6921802c",
   "metadata": {},
   "outputs": [
    {
     "data": {
      "text/html": [
       "<div>\n",
       "<style scoped>\n",
       "    .dataframe tbody tr th:only-of-type {\n",
       "        vertical-align: middle;\n",
       "    }\n",
       "\n",
       "    .dataframe tbody tr th {\n",
       "        vertical-align: top;\n",
       "    }\n",
       "\n",
       "    .dataframe thead th {\n",
       "        text-align: right;\n",
       "    }\n",
       "</style>\n",
       "<table border=\"1\" class=\"dataframe\">\n",
       "  <thead>\n",
       "    <tr style=\"text-align: right;\">\n",
       "      <th></th>\n",
       "      <th>Region</th>\n",
       "      <th>Store ID</th>\n",
       "      <th>Product</th>\n",
       "      <th>Quantity</th>\n",
       "    </tr>\n",
       "  </thead>\n",
       "  <tbody>\n",
       "    <tr>\n",
       "      <th>10</th>\n",
       "      <td>APAC</td>\n",
       "      <td>ID-26</td>\n",
       "      <td>iPhone 11</td>\n",
       "      <td>158</td>\n",
       "    </tr>\n",
       "    <tr>\n",
       "      <th>23</th>\n",
       "      <td>APAC</td>\n",
       "      <td>ID-5</td>\n",
       "      <td>iPhone 11</td>\n",
       "      <td>102</td>\n",
       "    </tr>\n",
       "    <tr>\n",
       "      <th>25</th>\n",
       "      <td>APAC</td>\n",
       "      <td>ID-7</td>\n",
       "      <td>iPhone 11</td>\n",
       "      <td>123</td>\n",
       "    </tr>\n",
       "  </tbody>\n",
       "</table>\n",
       "</div>"
      ],
      "text/plain": [
       "   Region Store ID    Product  Quantity\n",
       "10   APAC    ID-26  iPhone 11       158\n",
       "23   APAC     ID-5  iPhone 11       102\n",
       "25   APAC     ID-7  iPhone 11       123"
      ]
     },
     "execution_count": 51,
     "metadata": {},
     "output_type": "execute_result"
    }
   ],
   "source": [
    "iPhone11_Apac"
   ]
  },
  {
   "cell_type": "code",
   "execution_count": 52,
   "id": "df29154c",
   "metadata": {},
   "outputs": [],
   "source": [
    "  iPhone11_Emea = iPhone11[iPhone11['Region'] == 'EMEA'] "
   ]
  },
  {
   "cell_type": "code",
   "execution_count": 53,
   "id": "f6b36df2",
   "metadata": {},
   "outputs": [
    {
     "data": {
      "text/html": [
       "<div>\n",
       "<style scoped>\n",
       "    .dataframe tbody tr th:only-of-type {\n",
       "        vertical-align: middle;\n",
       "    }\n",
       "\n",
       "    .dataframe tbody tr th {\n",
       "        vertical-align: top;\n",
       "    }\n",
       "\n",
       "    .dataframe thead th {\n",
       "        text-align: right;\n",
       "    }\n",
       "</style>\n",
       "<table border=\"1\" class=\"dataframe\">\n",
       "  <thead>\n",
       "    <tr style=\"text-align: right;\">\n",
       "      <th></th>\n",
       "      <th>Region</th>\n",
       "      <th>Store ID</th>\n",
       "      <th>Product</th>\n",
       "      <th>Quantity</th>\n",
       "    </tr>\n",
       "  </thead>\n",
       "  <tbody>\n",
       "    <tr>\n",
       "      <th>5</th>\n",
       "      <td>EMEA</td>\n",
       "      <td>ID-15</td>\n",
       "      <td>iPhone 11</td>\n",
       "      <td>513</td>\n",
       "    </tr>\n",
       "    <tr>\n",
       "      <th>9</th>\n",
       "      <td>EMEA</td>\n",
       "      <td>ID-258</td>\n",
       "      <td>iPhone 11</td>\n",
       "      <td>56</td>\n",
       "    </tr>\n",
       "    <tr>\n",
       "      <th>26</th>\n",
       "      <td>EMEA</td>\n",
       "      <td>ID-3</td>\n",
       "      <td>iPhone 11</td>\n",
       "      <td>458</td>\n",
       "    </tr>\n",
       "    <tr>\n",
       "      <th>30</th>\n",
       "      <td>EMEA</td>\n",
       "      <td>ID-159</td>\n",
       "      <td>iPhone 11</td>\n",
       "      <td>154</td>\n",
       "    </tr>\n",
       "    <tr>\n",
       "      <th>31</th>\n",
       "      <td>EMEA</td>\n",
       "      <td>ID-137</td>\n",
       "      <td>iPhone 11</td>\n",
       "      <td>125</td>\n",
       "    </tr>\n",
       "  </tbody>\n",
       "</table>\n",
       "</div>"
      ],
      "text/plain": [
       "   Region Store ID    Product  Quantity\n",
       "5    EMEA    ID-15  iPhone 11       513\n",
       "9    EMEA   ID-258  iPhone 11        56\n",
       "26   EMEA     ID-3  iPhone 11       458\n",
       "30   EMEA   ID-159  iPhone 11       154\n",
       "31   EMEA   ID-137  iPhone 11       125"
      ]
     },
     "execution_count": 53,
     "metadata": {},
     "output_type": "execute_result"
    }
   ],
   "source": [
    "iPhone11_Emea.head()"
   ]
  },
  {
   "cell_type": "code",
   "execution_count": 54,
   "id": "8fb79e36",
   "metadata": {},
   "outputs": [
    {
     "data": {
      "text/plain": [
       "3985"
      ]
     },
     "execution_count": 54,
     "metadata": {},
     "output_type": "execute_result"
    }
   ],
   "source": [
    "iPhone11_America_Quantity = iPhone11_America['Quantity'].sum()\n",
    "iPhone11_America_Quantity"
   ]
  },
  {
   "cell_type": "code",
   "execution_count": 55,
   "id": "636ca94e",
   "metadata": {},
   "outputs": [
    {
     "data": {
      "text/plain": [
       "383"
      ]
     },
     "execution_count": 55,
     "metadata": {},
     "output_type": "execute_result"
    }
   ],
   "source": [
    "iPhone11_Apac_Quantity = iPhone11_Apac['Quantity'].sum()\n",
    "iPhone11_Apac_Quantity"
   ]
  },
  {
   "cell_type": "code",
   "execution_count": 56,
   "id": "12bb8a00",
   "metadata": {},
   "outputs": [
    {
     "data": {
      "text/plain": [
       "1431"
      ]
     },
     "execution_count": 56,
     "metadata": {},
     "output_type": "execute_result"
    }
   ],
   "source": [
    "iPhone11_Emea_Quantity = iPhone11_Emea['Quantity'].sum()\n",
    "iPhone11_Emea_Quantity"
   ]
  },
  {
   "cell_type": "markdown",
   "id": "bb48c8db",
   "metadata": {},
   "source": [
    "## iPhone 12"
   ]
  },
  {
   "cell_type": "code",
   "execution_count": 57,
   "id": "417f76bb",
   "metadata": {},
   "outputs": [],
   "source": [
    "  iPhone12_America = iPhone12[iPhone12['Region'] == 'Americas'] "
   ]
  },
  {
   "cell_type": "code",
   "execution_count": 58,
   "id": "d8c1e6d6",
   "metadata": {},
   "outputs": [
    {
     "data": {
      "text/html": [
       "<div>\n",
       "<style scoped>\n",
       "    .dataframe tbody tr th:only-of-type {\n",
       "        vertical-align: middle;\n",
       "    }\n",
       "\n",
       "    .dataframe tbody tr th {\n",
       "        vertical-align: top;\n",
       "    }\n",
       "\n",
       "    .dataframe thead th {\n",
       "        text-align: right;\n",
       "    }\n",
       "</style>\n",
       "<table border=\"1\" class=\"dataframe\">\n",
       "  <thead>\n",
       "    <tr style=\"text-align: right;\">\n",
       "      <th></th>\n",
       "      <th>Region</th>\n",
       "      <th>Store ID</th>\n",
       "      <th>Product</th>\n",
       "      <th>Quantity</th>\n",
       "    </tr>\n",
       "  </thead>\n",
       "  <tbody>\n",
       "    <tr>\n",
       "      <th>27</th>\n",
       "      <td>Americas</td>\n",
       "      <td>ID-4</td>\n",
       "      <td>iPhone 12</td>\n",
       "      <td>1054</td>\n",
       "    </tr>\n",
       "  </tbody>\n",
       "</table>\n",
       "</div>"
      ],
      "text/plain": [
       "      Region Store ID    Product  Quantity\n",
       "27  Americas     ID-4  iPhone 12      1054"
      ]
     },
     "execution_count": 58,
     "metadata": {},
     "output_type": "execute_result"
    }
   ],
   "source": [
    "iPhone12_America"
   ]
  },
  {
   "cell_type": "code",
   "execution_count": 59,
   "id": "1dd20030",
   "metadata": {},
   "outputs": [],
   "source": [
    "  iPhone12_Apac = iPhone12[iPhone12['Region'] == 'APAC'] "
   ]
  },
  {
   "cell_type": "code",
   "execution_count": 60,
   "id": "7e39a4a5",
   "metadata": {},
   "outputs": [
    {
     "data": {
      "text/html": [
       "<div>\n",
       "<style scoped>\n",
       "    .dataframe tbody tr th:only-of-type {\n",
       "        vertical-align: middle;\n",
       "    }\n",
       "\n",
       "    .dataframe tbody tr th {\n",
       "        vertical-align: top;\n",
       "    }\n",
       "\n",
       "    .dataframe thead th {\n",
       "        text-align: right;\n",
       "    }\n",
       "</style>\n",
       "<table border=\"1\" class=\"dataframe\">\n",
       "  <thead>\n",
       "    <tr style=\"text-align: right;\">\n",
       "      <th></th>\n",
       "      <th>Region</th>\n",
       "      <th>Store ID</th>\n",
       "      <th>Product</th>\n",
       "      <th>Quantity</th>\n",
       "    </tr>\n",
       "  </thead>\n",
       "  <tbody>\n",
       "    <tr>\n",
       "      <th>2</th>\n",
       "      <td>APAC</td>\n",
       "      <td>ID-118</td>\n",
       "      <td>iPhone 12</td>\n",
       "      <td>1014</td>\n",
       "    </tr>\n",
       "    <tr>\n",
       "      <th>33</th>\n",
       "      <td>APAC</td>\n",
       "      <td>ID-139</td>\n",
       "      <td>iPhone 12</td>\n",
       "      <td>388</td>\n",
       "    </tr>\n",
       "    <tr>\n",
       "      <th>34</th>\n",
       "      <td>APAC</td>\n",
       "      <td>ID-122</td>\n",
       "      <td>iPhone 12</td>\n",
       "      <td>125</td>\n",
       "    </tr>\n",
       "  </tbody>\n",
       "</table>\n",
       "</div>"
      ],
      "text/plain": [
       "   Region Store ID    Product  Quantity\n",
       "2    APAC   ID-118  iPhone 12      1014\n",
       "33   APAC   ID-139  iPhone 12       388\n",
       "34   APAC   ID-122  iPhone 12       125"
      ]
     },
     "execution_count": 60,
     "metadata": {},
     "output_type": "execute_result"
    }
   ],
   "source": [
    "iPhone12_Apac"
   ]
  },
  {
   "cell_type": "code",
   "execution_count": 61,
   "id": "67e8bdcb",
   "metadata": {},
   "outputs": [],
   "source": [
    "  iPhone12_Emea = iPhone12[iPhone12['Region'] == 'EMEA'] "
   ]
  },
  {
   "cell_type": "code",
   "execution_count": 62,
   "id": "e2f60e21",
   "metadata": {},
   "outputs": [
    {
     "data": {
      "text/html": [
       "<div>\n",
       "<style scoped>\n",
       "    .dataframe tbody tr th:only-of-type {\n",
       "        vertical-align: middle;\n",
       "    }\n",
       "\n",
       "    .dataframe tbody tr th {\n",
       "        vertical-align: top;\n",
       "    }\n",
       "\n",
       "    .dataframe thead th {\n",
       "        text-align: right;\n",
       "    }\n",
       "</style>\n",
       "<table border=\"1\" class=\"dataframe\">\n",
       "  <thead>\n",
       "    <tr style=\"text-align: right;\">\n",
       "      <th></th>\n",
       "      <th>Region</th>\n",
       "      <th>Store ID</th>\n",
       "      <th>Product</th>\n",
       "      <th>Quantity</th>\n",
       "    </tr>\n",
       "  </thead>\n",
       "  <tbody>\n",
       "  </tbody>\n",
       "</table>\n",
       "</div>"
      ],
      "text/plain": [
       "Empty DataFrame\n",
       "Columns: [Region, Store ID, Product, Quantity]\n",
       "Index: []"
      ]
     },
     "execution_count": 62,
     "metadata": {},
     "output_type": "execute_result"
    }
   ],
   "source": [
    "iPhone12_Emea"
   ]
  },
  {
   "cell_type": "code",
   "execution_count": 63,
   "id": "787eea4e",
   "metadata": {},
   "outputs": [
    {
     "data": {
      "text/plain": [
       "1054"
      ]
     },
     "execution_count": 63,
     "metadata": {},
     "output_type": "execute_result"
    }
   ],
   "source": [
    "iPhone12_America_Quantity = iPhone12_America['Quantity'].sum()\n",
    "iPhone12_America_Quantity"
   ]
  },
  {
   "cell_type": "code",
   "execution_count": 64,
   "id": "cb141b78",
   "metadata": {},
   "outputs": [
    {
     "data": {
      "text/plain": [
       "1527"
      ]
     },
     "execution_count": 64,
     "metadata": {},
     "output_type": "execute_result"
    }
   ],
   "source": [
    "iPhone12_Apac_Quantity = iPhone12_Apac['Quantity'].sum()\n",
    "iPhone12_Apac_Quantity"
   ]
  },
  {
   "cell_type": "code",
   "execution_count": 65,
   "id": "97c849ab",
   "metadata": {},
   "outputs": [
    {
     "data": {
      "text/plain": [
       "0"
      ]
     },
     "execution_count": 65,
     "metadata": {},
     "output_type": "execute_result"
    }
   ],
   "source": [
    "iPhone12_Emea_Quantity = iPhone12_Emea['Quantity'].sum()\n",
    "iPhone12_Emea_Quantity"
   ]
  },
  {
   "cell_type": "markdown",
   "id": "9cd86e33",
   "metadata": {},
   "source": [
    "# iPhone 8\n",
    "\n"
   ]
  },
  {
   "cell_type": "code",
   "execution_count": 66,
   "id": "b7f0fd70",
   "metadata": {},
   "outputs": [],
   "source": [
    "  iPhone8_America = iPhone8[iPhone8['Region'] == 'Americas'] "
   ]
  },
  {
   "cell_type": "code",
   "execution_count": 67,
   "id": "b0a5cbea",
   "metadata": {},
   "outputs": [],
   "source": [
    "  iPhone8_Apac = iPhone8[iPhone8['Region'] == 'APAC'] "
   ]
  },
  {
   "cell_type": "code",
   "execution_count": 68,
   "id": "637f474c",
   "metadata": {},
   "outputs": [],
   "source": [
    "  iPhone8_Emea = iPhone8[iPhone8['Region'] == 'EMEA'] "
   ]
  },
  {
   "cell_type": "code",
   "execution_count": 69,
   "id": "350760c1",
   "metadata": {},
   "outputs": [
    {
     "data": {
      "text/plain": [
       "7"
      ]
     },
     "execution_count": 69,
     "metadata": {},
     "output_type": "execute_result"
    }
   ],
   "source": [
    "iPhone8_America_Quantity = iPhone8_America['Quantity'].sum()\n",
    "iPhone8_America_Quantity"
   ]
  },
  {
   "cell_type": "code",
   "execution_count": 70,
   "id": "6c11d43a",
   "metadata": {},
   "outputs": [
    {
     "data": {
      "text/plain": [
       "7"
      ]
     },
     "execution_count": 70,
     "metadata": {},
     "output_type": "execute_result"
    }
   ],
   "source": [
    "iPhone8_Apac_Quantity = iPhone8_Apac['Quantity'].sum()\n",
    "iPhone8_Apac_Quantity"
   ]
  },
  {
   "cell_type": "code",
   "execution_count": 71,
   "id": "01c77d3c",
   "metadata": {},
   "outputs": [
    {
     "data": {
      "text/plain": [
       "3"
      ]
     },
     "execution_count": 71,
     "metadata": {},
     "output_type": "execute_result"
    }
   ],
   "source": [
    "iPhone8_Emea_Quantity = iPhone8_Emea['Quantity'].sum()\n",
    "iPhone8_Emea_Quantity"
   ]
  },
  {
   "cell_type": "markdown",
   "id": "edf49830",
   "metadata": {},
   "source": [
    "# iPhone 7"
   ]
  },
  {
   "cell_type": "code",
   "execution_count": 72,
   "id": "86965c7f",
   "metadata": {},
   "outputs": [],
   "source": [
    "  iPhone7_America = iPhone7[iPhone7['Region'] == 'Americas'] "
   ]
  },
  {
   "cell_type": "code",
   "execution_count": 73,
   "id": "4b4c7757",
   "metadata": {},
   "outputs": [],
   "source": [
    "  iPhone7_Apac = iPhone7[iPhone7['Region'] == 'APAC'] "
   ]
  },
  {
   "cell_type": "code",
   "execution_count": 74,
   "id": "4e02eb39",
   "metadata": {},
   "outputs": [],
   "source": [
    "  iPhone7_Emea = iPhone7[iPhone7['Region'] == 'EMEA'] "
   ]
  },
  {
   "cell_type": "code",
   "execution_count": 75,
   "id": "b8d07748",
   "metadata": {},
   "outputs": [
    {
     "data": {
      "text/plain": [
       "3"
      ]
     },
     "execution_count": 75,
     "metadata": {},
     "output_type": "execute_result"
    }
   ],
   "source": [
    "iPhone7_America_Quantity = iPhone7_America['Quantity'].sum()\n",
    "iPhone7_America_Quantity"
   ]
  },
  {
   "cell_type": "code",
   "execution_count": 76,
   "id": "4cfe9064",
   "metadata": {},
   "outputs": [
    {
     "data": {
      "text/plain": [
       "106"
      ]
     },
     "execution_count": 76,
     "metadata": {},
     "output_type": "execute_result"
    }
   ],
   "source": [
    "iPhone7_Apac_Quantity = iPhone7_Apac['Quantity'].sum()\n",
    "iPhone7_Apac_Quantity"
   ]
  },
  {
   "cell_type": "code",
   "execution_count": 77,
   "id": "08822b87",
   "metadata": {},
   "outputs": [
    {
     "data": {
      "text/plain": [
       "59"
      ]
     },
     "execution_count": 77,
     "metadata": {},
     "output_type": "execute_result"
    }
   ],
   "source": [
    "iPhone7_Emea_Quantity = iPhone7_Emea['Quantity'].sum()\n",
    "iPhone7_Emea_Quantity"
   ]
  },
  {
   "cell_type": "markdown",
   "id": "bb51121e",
   "metadata": {},
   "source": [
    "## iPhone 6"
   ]
  },
  {
   "cell_type": "code",
   "execution_count": 78,
   "id": "29abf197",
   "metadata": {},
   "outputs": [],
   "source": [
    "  iPhone6_America = iPhone6[iPhone6['Region'] == 'Americas'] "
   ]
  },
  {
   "cell_type": "code",
   "execution_count": 79,
   "id": "f1cd99bb",
   "metadata": {},
   "outputs": [],
   "source": [
    "  iPhone6_Apac = iPhone6[iPhone6['Region'] == 'APAC'] "
   ]
  },
  {
   "cell_type": "code",
   "execution_count": 80,
   "id": "4da0d435",
   "metadata": {},
   "outputs": [],
   "source": [
    "  iPhone6_Emea = iPhone6[iPhone6['Region'] == 'EMEA'] "
   ]
  },
  {
   "cell_type": "code",
   "execution_count": 81,
   "id": "96131387",
   "metadata": {},
   "outputs": [
    {
     "data": {
      "text/plain": [
       "1"
      ]
     },
     "execution_count": 81,
     "metadata": {},
     "output_type": "execute_result"
    }
   ],
   "source": [
    "iPhone6_America_Quantity = iPhone6_America['Quantity'].sum()\n",
    "iPhone6_America_Quantity\n"
   ]
  },
  {
   "cell_type": "code",
   "execution_count": 82,
   "id": "29949a43",
   "metadata": {},
   "outputs": [
    {
     "data": {
      "text/plain": [
       "0"
      ]
     },
     "execution_count": 82,
     "metadata": {},
     "output_type": "execute_result"
    }
   ],
   "source": [
    "iPhone6_Apac_Quantity = iPhone6_Apac['Quantity'].sum()\n",
    "iPhone6_Apac_Quantity\n",
    "\n"
   ]
  },
  {
   "cell_type": "code",
   "execution_count": 83,
   "id": "e1ed9adb",
   "metadata": {},
   "outputs": [
    {
     "data": {
      "text/plain": [
       "0"
      ]
     },
     "execution_count": 83,
     "metadata": {},
     "output_type": "execute_result"
    }
   ],
   "source": [
    "iPhone6_Emea_Quantity = iPhone6_Emea['Quantity'].sum()\n",
    "iPhone6_Emea_Quantity"
   ]
  },
  {
   "cell_type": "code",
   "execution_count": 84,
   "id": "b880e602",
   "metadata": {},
   "outputs": [],
   "source": [
    "data = {\"America\":[iPhone12_America_Quantity, iPhone11_America_Quantity, iPhone8_America_Quantity,iPhone7_America_Quantity, iPhone6_America_Quantity],\n",
    "        \"APAC\":[iPhone12_Apac_Quantity,iPhone11_Apac_Quantity,iPhone8_Apac_Quantity,iPhone7_Apac_Quantity,iPhone6_Apac_Quantity],\n",
    "        \"EMEA\":[iPhone12_Emea_Quantity,iPhone11_Emea_Quantity,iPhone8_Emea_Quantity,iPhone7_Emea_Quantity,iPhone6_Emea_Quantity]}\n",
    "\n",
    "data = pd.DataFrame(data, index=['iPhone 12','iPhone 11', 'iPhone 8', 'iPhone 7','iPhone 6'])"
   ]
  },
  {
   "cell_type": "code",
   "execution_count": 85,
   "id": "c69b3c2c",
   "metadata": {},
   "outputs": [
    {
     "data": {
      "text/html": [
       "<div>\n",
       "<style scoped>\n",
       "    .dataframe tbody tr th:only-of-type {\n",
       "        vertical-align: middle;\n",
       "    }\n",
       "\n",
       "    .dataframe tbody tr th {\n",
       "        vertical-align: top;\n",
       "    }\n",
       "\n",
       "    .dataframe thead th {\n",
       "        text-align: right;\n",
       "    }\n",
       "</style>\n",
       "<table border=\"1\" class=\"dataframe\">\n",
       "  <thead>\n",
       "    <tr style=\"text-align: right;\">\n",
       "      <th></th>\n",
       "      <th>America</th>\n",
       "      <th>APAC</th>\n",
       "      <th>EMEA</th>\n",
       "    </tr>\n",
       "  </thead>\n",
       "  <tbody>\n",
       "    <tr>\n",
       "      <th>iPhone 12</th>\n",
       "      <td>1054</td>\n",
       "      <td>1527</td>\n",
       "      <td>0</td>\n",
       "    </tr>\n",
       "    <tr>\n",
       "      <th>iPhone 11</th>\n",
       "      <td>3985</td>\n",
       "      <td>383</td>\n",
       "      <td>1431</td>\n",
       "    </tr>\n",
       "    <tr>\n",
       "      <th>iPhone 8</th>\n",
       "      <td>7</td>\n",
       "      <td>7</td>\n",
       "      <td>3</td>\n",
       "    </tr>\n",
       "    <tr>\n",
       "      <th>iPhone 7</th>\n",
       "      <td>3</td>\n",
       "      <td>106</td>\n",
       "      <td>59</td>\n",
       "    </tr>\n",
       "    <tr>\n",
       "      <th>iPhone 6</th>\n",
       "      <td>1</td>\n",
       "      <td>0</td>\n",
       "      <td>0</td>\n",
       "    </tr>\n",
       "  </tbody>\n",
       "</table>\n",
       "</div>"
      ],
      "text/plain": [
       "           America  APAC  EMEA\n",
       "iPhone 12     1054  1527     0\n",
       "iPhone 11     3985   383  1431\n",
       "iPhone 8         7     7     3\n",
       "iPhone 7         3   106    59\n",
       "iPhone 6         1     0     0"
      ]
     },
     "execution_count": 85,
     "metadata": {},
     "output_type": "execute_result"
    }
   ],
   "source": [
    "data.head()"
   ]
  },
  {
   "cell_type": "code",
   "execution_count": 86,
   "id": "6f70c718",
   "metadata": {},
   "outputs": [
    {
     "data": {
      "text/plain": [
       "<AxesSubplot:>"
      ]
     },
     "execution_count": 86,
     "metadata": {},
     "output_type": "execute_result"
    },
    {
     "data": {
      "image/png": "[encoded data removed]",
      "text/plain": [
       "<Figure size 640x480 with 1 Axes>"
      ]
     },
     "metadata": {},
     "output_type": "display_data"
    }
   ],
   "source": [
    "data[\"America\"].plot(kind='line')"
   ]
  },
  {
   "cell_type": "code",
   "execution_count": 87,
   "id": "b78aaf1a",
   "metadata": {},
   "outputs": [
    {
     "data": {
      "text/plain": [
       "<AxesSubplot:>"
      ]
     },
     "execution_count": 87,
     "metadata": {},
     "output_type": "execute_result"
    },
    {
     "data": {
      "image/png": "[encoded data removed]",
      "text/plain": [
       "<Figure size 640x480 with 1 Axes>"
      ]
     },
     "metadata": {},
     "output_type": "display_data"
    }
   ],
   "source": [
    "data[\"APAC\"].plot(kind='bar')"
   ]
  },
  {
   "cell_type": "code",
   "execution_count": 88,
   "id": "ead6eecc",
   "metadata": {},
   "outputs": [
    {
     "data": {
      "text/plain": [
       "<AxesSubplot:ylabel='EMEA'>"
      ]
     },
     "execution_count": 88,
     "metadata": {},
     "output_type": "execute_result"
    },
    {
     "data": {
      "image/png": "[encoded data removed]",
      "text/plain": [
       "<Figure size 640x480 with 1 Axes>"
      ]
     },
     "metadata": {},
     "output_type": "display_data"
    }
   ],
   "source": [
    "data[\"EMEA\"].plot(kind='pie')"
   ]
  },
  {
   "cell_type": "code",
   "execution_count": 89,
   "id": "8de26db9",
   "metadata": {},
   "outputs": [
    {
     "data": {
      "text/plain": [
       "<AxesSubplot:>"
      ]
     },
     "execution_count": 89,
     "metadata": {},
     "output_type": "execute_result"
    },
    {
     "data": {
      "image/png": "[encoded data removed]",
      "text/plain": [
       "<Figure size 640x480 with 1 Axes>"
      ]
     },
     "metadata": {},
     "output_type": "display_data"
    }
   ],
   "source": [
    "data.plot(kind='bar')"
   ]
  },
  {
   "cell_type": "code",
   "execution_count": 90,
   "id": "90e3daf2",
   "metadata": {},
   "outputs": [
    {
     "data": {
      "text/plain": [
       "<AxesSubplot:>"
      ]
     },
     "execution_count": 90,
     "metadata": {},
     "output_type": "execute_result"
    },
    {
     "data": {
      "image/png": "[encoded data removed]",
      "text/plain": [
       "<Figure size 640x480 with 1 Axes>"
      ]
     },
     "metadata": {},
     "output_type": "display_data"
    }
   ],
   "source": [
    "data.plot(kind='line')"
   ]
  },
  {
   "cell_type": "code",
   "execution_count": null,
   "id": "665f3236",
   "metadata": {},
   "outputs": [],
   "source": []
  }
 ],
 "metadata": {
  "kernelspec": {
   "display_name": "Python 3 (ipykernel)",
   "language": "python",
   "name": "python3"
  },
  "language_info": {
   "codemirror_mode": {
    "name": "ipython",
    "version": 3
   },
   "file_extension": ".py",
   "mimetype": "text/x-python",
   "name": "python",
   "nbconvert_exporter": "python",
   "pygments_lexer": "ipython3",
   "version": "3.9.13"
  }
 },
 "nbformat": 4,
 "nbformat_minor": 5
}
